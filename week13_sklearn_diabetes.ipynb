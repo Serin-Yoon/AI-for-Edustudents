{
  "nbformat": 4,
  "nbformat_minor": 0,
  "metadata": {
    "colab": {
      "name": "week13_sklearn_diabetes.ipynb",
      "provenance": [],
      "authorship_tag": "ABX9TyNflQMOEQp5EIWjxqDt/UCC",
      "include_colab_link": true
    },
    "kernelspec": {
      "name": "python3",
      "display_name": "Python 3"
    }
  },
  "cells": [
    {
      "cell_type": "markdown",
      "metadata": {
        "id": "view-in-github",
        "colab_type": "text"
      },
      "source": [
        "<a href=\"https://colab.research.google.com/github/Serin-Yoon/AI-for-Edustudents/blob/main/week13_sklearn_diabetes.ipynb\" target=\"_parent\"><img src=\"https://colab.research.google.com/assets/colab-badge.svg\" alt=\"Open In Colab\"/></a>"
      ]
    },
    {
      "cell_type": "code",
      "metadata": {
        "id": "JH0iMzk1Ky7d"
      },
      "source": [
        "from sklearn.datasets import load_diabetes\n",
        "diabetes = load_diabetes()\n",
        "#사이킷런의 당뇨병 환자 데이터셋 이용"
      ],
      "execution_count": 18,
      "outputs": []
    },
    {
      "cell_type": "code",
      "metadata": {
        "colab": {
          "base_uri": "https://localhost:8080/"
        },
        "id": "kBfAR5rFOol8",
        "outputId": "671cc5d9-85e5-4bd0-8d56-6aac6fb1ce1f"
      },
      "source": [
        "print(diabetes.data.shape, diabetes.target.shape) #데이터 크기 확인"
      ],
      "execution_count": 5,
      "outputs": [
        {
          "output_type": "stream",
          "text": [
            "(442, 10) (442,)\n"
          ],
          "name": "stdout"
        }
      ]
    },
    {
      "cell_type": "code",
      "metadata": {
        "colab": {
          "base_uri": "https://localhost:8080/"
        },
        "id": "27NGTVqlO6fn",
        "outputId": "d300260e-d5e5-4f91-cd60-2ab45f15eeab"
      },
      "source": [
        "diabetes.data[:3] #0~2번째 샘플 값"
      ],
      "execution_count": 6,
      "outputs": [
        {
          "output_type": "execute_result",
          "data": {
            "text/plain": [
              "array([[ 0.03807591,  0.05068012,  0.06169621,  0.02187235, -0.0442235 ,\n",
              "        -0.03482076, -0.04340085, -0.00259226,  0.01990842, -0.01764613],\n",
              "       [-0.00188202, -0.04464164, -0.05147406, -0.02632783, -0.00844872,\n",
              "        -0.01916334,  0.07441156, -0.03949338, -0.06832974, -0.09220405],\n",
              "       [ 0.08529891,  0.05068012,  0.04445121, -0.00567061, -0.04559945,\n",
              "        -0.03419447, -0.03235593, -0.00259226,  0.00286377, -0.02593034]])"
            ]
          },
          "metadata": {
            "tags": []
          },
          "execution_count": 6
        }
      ]
    },
    {
      "cell_type": "code",
      "metadata": {
        "colab": {
          "base_uri": "https://localhost:8080/"
        },
        "id": "qscnGpP-PO6P",
        "outputId": "e4dda71a-1fb3-454a-b491-3150575ef4fb"
      },
      "source": [
        "diabetes.target[:3] #0~2번째 타겟 값 (타겟 값 = 당뇨병 진행 정도)"
      ],
      "execution_count": 7,
      "outputs": [
        {
          "output_type": "execute_result",
          "data": {
            "text/plain": [
              "array([151.,  75., 141.])"
            ]
          },
          "metadata": {
            "tags": []
          },
          "execution_count": 7
        }
      ]
    },
    {
      "cell_type": "code",
      "metadata": {
        "id": "MgRsKnhtPonI"
      },
      "source": [
        "import numpy as np\n",
        "\n",
        "pa = [[1, 2, 3], [4, 5, 6], [7, 8, 9]]\n",
        "a = np.array(pa)"
      ],
      "execution_count": 19,
      "outputs": []
    },
    {
      "cell_type": "code",
      "metadata": {
        "id": "WfKIyZt1Pyjh"
      },
      "source": [
        "print(a[1, 0]) #numpy\n",
        "print(a[1][0]) #numpy\n",
        "print(pa[1][0]) #list"
      ],
      "execution_count": null,
      "outputs": []
    },
    {
      "cell_type": "code",
      "metadata": {
        "colab": {
          "base_uri": "https://localhost:8080/"
        },
        "id": "95jerCu9QMjM",
        "outputId": "13e554ba-8078-473e-9f1f-b446395dcdc1"
      },
      "source": [
        "print(a[1])\n",
        "print(pa[1])"
      ],
      "execution_count": 14,
      "outputs": [
        {
          "output_type": "stream",
          "text": [
            "[4 5 6]\n",
            "[4, 5, 6]\n"
          ],
          "name": "stdout"
        }
      ]
    },
    {
      "cell_type": "code",
      "metadata": {
        "id": "kRJabFdrQhOm"
      },
      "source": [
        "print(a[:, 1]) #모든 행의 1번째 열\n",
        "print(a[:][1]) #모든 행, 그중 1번째 행\n",
        "print(a[:2]) #0~1번째 행\n",
        "print(a[:, 0:2]) #모든 행의 0~1번째 열"
      ],
      "execution_count": null,
      "outputs": []
    },
    {
      "cell_type": "code",
      "metadata": {
        "id": "j6RUJfT4Rh6P"
      },
      "source": [
        "print(a[:, 0]) #인덱싱 -> 차원 없어짐 (1차원)\n",
        "print(a[:, 0:1]) #슬라이싱 -> 차원 그대로"
      ],
      "execution_count": null,
      "outputs": []
    },
    {
      "cell_type": "code",
      "metadata": {
        "id": "g6Jxgz8QR-fD"
      },
      "source": [
        "import matplotlib.pyplot as plt"
      ],
      "execution_count": 23,
      "outputs": []
    },
    {
      "cell_type": "code",
      "metadata": {
        "id": "7BYJ35wdSCe6"
      },
      "source": [
        "plt.scatter(diabetes.data[:, 2], diabetes.target) #x는 모든 사람의 2번째 특성\n",
        "plt.xlabel('x')\n",
        "plt.ylabel('y')\n",
        "plt.show()"
      ],
      "execution_count": null,
      "outputs": []
    },
    {
      "cell_type": "code",
      "metadata": {
        "id": "nC64GA-HTP9t"
      },
      "source": [
        "plt.scatter(diabetes.data[:10, 8], diabetes.target[:10])\n",
        "plt.xlabel('x')\n",
        "plt.ylabel('y')\n",
        "plt.show()"
      ],
      "execution_count": null,
      "outputs": []
    }
  ]
}
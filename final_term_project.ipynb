{
  "nbformat": 4,
  "nbformat_minor": 0,
  "metadata": {
    "colab": {
      "name": "final_term_project.ipynb",
      "provenance": [],
      "authorship_tag": "ABX9TyMHjfi3IAFHHRDQWcErAYvY",
      "include_colab_link": true
    },
    "kernelspec": {
      "name": "python3",
      "display_name": "Python 3"
    }
  },
  "cells": [
    {
      "cell_type": "markdown",
      "metadata": {
        "id": "view-in-github",
        "colab_type": "text"
      },
      "source": [
        "<a href=\"https://colab.research.google.com/github/Serin-Yoon/AI-for-Edustudents/blob/main/final_term_project.ipynb\" target=\"_parent\"><img src=\"https://colab.research.google.com/assets/colab-badge.svg\" alt=\"Open In Colab\"/></a>"
      ]
    },
    {
      "cell_type": "code",
      "metadata": {
        "id": "wDn3I1q7-Gt6"
      },
      "source": [
        "import numpy as np\r\n",
        "import matplotlib.pyplot as plt\r\n",
        "import pandas as pd"
      ],
      "execution_count": 2,
      "outputs": []
    },
    {
      "cell_type": "code",
      "metadata": {
        "id": "ac2zw8ic-KHM"
      },
      "source": [
        "#깃허브로부터 CSV 데이터 불러오기\r\n",
        "url = 'https://raw.githubusercontent.com/Serin-Yoon/AI-for-Edustudents/main/serin_data.csv'\r\n",
        "data = pd.read_csv(url, encoding='CP949')\r\n",
        "np_data = np.array(data)"
      ],
      "execution_count": 3,
      "outputs": []
    },
    {
      "cell_type": "code",
      "metadata": {
        "id": "0NaOZoFk1r4h"
      },
      "source": [
        "data #CSV 데이터 확인"
      ],
      "execution_count": null,
      "outputs": []
    },
    {
      "cell_type": "code",
      "metadata": {
        "id": "avjV72qB-O4O"
      },
      "source": [
        "class Neuron:\r\n",
        "  #초기화 작업\r\n",
        "  def __init__(self):\r\n",
        "    self.w = 1.0 #가중치 선언, 초기화\r\n",
        "    self.b = 1.0 #절편 선언, 초기화\r\n",
        "\r\n",
        "  #정방향 계산 메서드\r\n",
        "  def forpass(self, x):\r\n",
        "    y_hat = x*self.w + self.b #y=xw+b\r\n",
        "    return y_hat\r\n",
        "  \r\n",
        "  #역방향 계산 메서드 (오차 역전파, backpropagation)\r\n",
        "  def backprop(self, x, err):\r\n",
        "    w_grad = x*err\r\n",
        "    b_grad = 1*err\r\n",
        "    return w_grad, b_grad\r\n",
        "\r\n",
        "  #훈련을 위한 메서드\r\n",
        "  def fit(self, x, y, epochs):\r\n",
        "    #epoch 수만큼 반복 훈련\r\n",
        "    for i in range(epochs):\r\n",
        "      for x_i, y_i in zip(x,y):\r\n",
        "        y_hat = self.forpass(x_i)\r\n",
        "        err = -(y_i - y_hat) #오차 계산\r\n",
        "        w_grad, b_grad = self.backprop(x_i, err)\r\n",
        "        self.w -= w_grad\r\n",
        "        self.b -= b_grad"
      ],
      "execution_count": 4,
      "outputs": []
    },
    {
      "cell_type": "code",
      "metadata": {
        "id": "qqRvP_NZFFmF"
      },
      "source": [
        "#3번째 중금속 데이터 산점도\r\n",
        "x = np_data[:, 3]\r\n",
        "y = np_data[:, -1]\r\n",
        "plt.scatter(x,y)"
      ],
      "execution_count": null,
      "outputs": []
    },
    {
      "cell_type": "code",
      "metadata": {
        "id": "KNTHY7fHAj_f"
      },
      "source": [
        "#Data Size 40\r\n",
        "x = np_data[:40, 3]\r\n",
        "y = np_data[:40, -1]\r\n",
        "plt.scatter(x, y)\r\n",
        "\r\n",
        "neuron = Neuron()\r\n",
        "\r\n",
        "#Epoch 800, 1000, 1200, 1400, 1600, 1800\r\n",
        "neuron.fit(x, y, 1800)\r\n",
        "\r\n",
        "pt1 = (0.0, 0.0*neuron.w + neuron.b)\r\n",
        "pt2 = (0.04, 0.04*neuron.w + neuron.b)\r\n",
        "plt.plot([pt1[0], pt2[0]], [pt1[1], pt2[1]])\r\n",
        "\r\n",
        "plt.xlabel('x')\r\n",
        "plt.ylabel('y')\r\n",
        "plt.show()\r\n"
      ],
      "execution_count": null,
      "outputs": []
    },
    {
      "cell_type": "code",
      "metadata": {
        "id": "1NEXmkTh1CiN"
      },
      "source": [
        "#Data Size 30\r\n",
        "x = np_data[:30, 3]\r\n",
        "y = np_data[:30, -1]\r\n",
        "plt.scatter(x, y)\r\n",
        "\r\n",
        "neuron = Neuron()\r\n",
        "\r\n",
        "#Epoch 800, 1000, 1200, 1400, 1600, 1800\r\n",
        "neuron.fit(x, y, 1800)\r\n",
        "\r\n",
        "pt1 = (0.0, 0.0*neuron.w + neuron.b)\r\n",
        "pt2 = (0.02, 0.02*neuron.w + neuron.b)\r\n",
        "plt.plot([pt1[0], pt2[0]], [pt1[1], pt2[1]])\r\n",
        "\r\n",
        "plt.xlabel('x')\r\n",
        "plt.ylabel('y')\r\n",
        "plt.show()"
      ],
      "execution_count": null,
      "outputs": []
    },
    {
      "cell_type": "code",
      "metadata": {
        "id": "inSlJOyH1Rxd"
      },
      "source": [
        "#Data Size 20\r\n",
        "x = np_data[:20, 3]\r\n",
        "y = np_data[:20, -1]\r\n",
        "plt.scatter(x, y)\r\n",
        "\r\n",
        "neuron = Neuron()\r\n",
        "\r\n",
        "#Epoch 800, 1000, 1200, 1400, 1600, 1800\r\n",
        "neuron.fit(x, y, 1800)\r\n",
        "\r\n",
        "pt1 = (0.0, 0.0*neuron.w + neuron.b)\r\n",
        "pt2 = (0.02, 0.02*neuron.w + neuron.b)\r\n",
        "plt.plot([pt1[0], pt2[0]], [pt1[1], pt2[1]])\r\n",
        "\r\n",
        "plt.xlabel('x')\r\n",
        "plt.ylabel('y')\r\n",
        "plt.show()"
      ],
      "execution_count": null,
      "outputs": []
    },
    {
      "cell_type": "code",
      "metadata": {
        "id": "i4X6YdiGriPP"
      },
      "source": [
        "#Data Size 별 직선 그래프 비교\r\n",
        "\r\n",
        "#Data Size 40\r\n",
        "w1 = 3.0573032576930337\r\n",
        "b1 = 16.96850779779033\r\n",
        "\r\n",
        "#Data Size 30\r\n",
        "w2 = 132.19368791917645 \r\n",
        "b2 = 16.47127007677238\r\n",
        "\r\n",
        "#Data Size 20\r\n",
        "w3 = 77.26025252166127\r\n",
        "b3 = 17.37391226646664\r\n",
        "\r\n",
        "plt.plot([0.0, 0.04], [0.0*w1+b1, 0.04*w1+b1])\r\n",
        "plt.plot([0.0, 0.04], [0.0*w2+b2, 0.04*w2+b2])\r\n",
        "plt.plot([0.0, 0.04], [0.0*w3+b3, 0.04*w3+b3])\r\n",
        "\r\n",
        "plt.xlabel('x')\r\n",
        "plt.ylabel('y')\r\n",
        "plt.show()"
      ],
      "execution_count": null,
      "outputs": []
    }
  ]
}
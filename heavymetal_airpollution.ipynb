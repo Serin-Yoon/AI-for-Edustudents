{
  "nbformat": 4,
  "nbformat_minor": 0,
  "metadata": {
    "colab": {
      "name": "heavymetal_airpollution.ipynb",
      "provenance": [],
      "authorship_tag": "ABX9TyOZOAFDzcuSxLmUP9sQ9lGW",
      "include_colab_link": true
    },
    "kernelspec": {
      "name": "python3",
      "display_name": "Python 3"
    }
  },
  "cells": [
    {
      "cell_type": "markdown",
      "metadata": {
        "id": "view-in-github",
        "colab_type": "text"
      },
      "source": [
        "<a href=\"https://colab.research.google.com/github/Serin-Yoon/AI-for-Edustudents/blob/main/heavymetal_airpollution.ipynb\" target=\"_parent\"><img src=\"https://colab.research.google.com/assets/colab-badge.svg\" alt=\"Open In Colab\"/></a>"
      ]
    },
    {
      "cell_type": "code",
      "metadata": {
        "id": "SgWCCSNDAX3P"
      },
      "source": [
        "import numpy as np\n",
        "import matplotlib.pyplot as plt\n",
        "import pandas as pd"
      ],
      "execution_count": 7,
      "outputs": []
    },
    {
      "cell_type": "code",
      "metadata": {
        "id": "vaFr1arTrlnY"
      },
      "source": [
        "url = 'https://raw.githubusercontent.com/Serin-Yoon/AI-for-Edustudents/main/serin_data.csv'\n",
        "data = pd.read_csv(url, encoding='CP949')"
      ],
      "execution_count": 15,
      "outputs": []
    },
    {
      "cell_type": "code",
      "metadata": {
        "id": "lgP7bYn2xfR6"
      },
      "source": [
        "np_data = np.array(data)"
      ],
      "execution_count": 26,
      "outputs": []
    },
    {
      "cell_type": "code",
      "metadata": {
        "id": "2N37ansDzK5t"
      },
      "source": [
        "print(np_data[:, 0]) #모든 지역 이름 출력\n",
        "print(np_data[:, -1]) #모든 지역의 대기오염도"
      ],
      "execution_count": null,
      "outputs": []
    },
    {
      "cell_type": "code",
      "metadata": {
        "colab": {
          "base_uri": "https://localhost:8080/",
          "height": 279
        },
        "id": "UnI90Oud0f7s",
        "outputId": "eb5e818c-3c54-40b5-b81c-21d4c516efd9"
      },
      "source": [
        "x = np_data[:11, 1]\n",
        "y = np_data[:11, -1]\n",
        "plt.scatter(x, y)\n",
        "plt.xlabel('x')\n",
        "plt.ylabel('y')\n",
        "plt.show()"
      ],
      "execution_count": 32,
      "outputs": [
        {
          "output_type": "display_data",
          "data": {
            "image/png": "[encoded data removed]",
            "text/plain": [
              "<Figure size 432x288 with 1 Axes>"
            ]
          },
          "metadata": {
            "tags": [],
            "needs_background": "light"
          }
        }
      ]
    }
  ]
}